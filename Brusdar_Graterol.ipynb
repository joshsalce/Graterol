{
  "nbformat": 4,
  "nbformat_minor": 0,
  "metadata": {
    "colab": {
      "name": "Brusdar_Graterol.ipynb",
      "provenance": []
    },
    "kernelspec": {
      "name": "python3",
      "display_name": "Python 3"
    },
    "language_info": {
      "name": "python"
    }
  },
  "cells": [
    {
      "cell_type": "code",
      "execution_count": 1,
      "metadata": {
        "colab": {
          "base_uri": "https://localhost:8080/"
        },
        "id": "sRo644GMnmrC",
        "outputId": "f7fbbc7e-0f8a-4d9e-87c9-119c918111dd"
      },
      "outputs": [
        {
          "output_type": "stream",
          "name": "stdout",
          "text": [
            "\u001b[K     |████████████████████████████████| 415 kB 7.3 MB/s \n",
            "\u001b[K     |████████████████████████████████| 291 kB 32.7 MB/s \n",
            "\u001b[K     |████████████████████████████████| 856 kB 22.2 MB/s \n",
            "\u001b[?25h"
          ]
        }
      ],
      "source": [
        "%pip install pybaseball -q"
      ]
    },
    {
      "cell_type": "code",
      "source": [
        "import pybaseball as pyb\n",
        "from pybaseball import statcast\n",
        "from pybaseball import statcast_pitcher, playerid_lookup\n",
        "from pybaseball import pitching_stats_bref, pitching_stats\n",
        "import pandas as pd\n",
        "import numpy as np"
      ],
      "metadata": {
        "id": "xjAJAZ0QnpTP"
      },
      "execution_count": 2,
      "outputs": []
    },
    {
      "cell_type": "code",
      "source": [
        "playerid_lookup('graterol','brusdar')['key_mlbam'][0]"
      ],
      "metadata": {
        "colab": {
          "base_uri": "https://localhost:8080/"
        },
        "id": "UBH8ZQIPnrCk",
        "outputId": "fde634e9-38ce-4815-bc48-45f015617695"
      },
      "execution_count": 3,
      "outputs": [
        {
          "output_type": "stream",
          "name": "stdout",
          "text": [
            "Gathering player lookup table. This may take a moment.\n"
          ]
        },
        {
          "output_type": "execute_result",
          "data": {
            "text/plain": [
              "660813"
            ]
          },
          "metadata": {},
          "execution_count": 3
        }
      ]
    },
    {
      "cell_type": "code",
      "source": [
        "graterol = statcast_pitcher('2022-04-08', '2022-10-04', player_id = 660813)"
      ],
      "metadata": {
        "colab": {
          "base_uri": "https://localhost:8080/"
        },
        "id": "hD1ZjKhKnvpI",
        "outputId": "c08e4278-0df2-42f6-842a-4a465aee716b"
      },
      "execution_count": 16,
      "outputs": [
        {
          "output_type": "stream",
          "name": "stdout",
          "text": [
            "Gathering Player Data\n"
          ]
        }
      ]
    },
    {
      "cell_type": "code",
      "source": [
        "graterol['pitch_type'].unique()"
      ],
      "metadata": {
        "colab": {
          "base_uri": "https://localhost:8080/"
        },
        "id": "KrsFnwCAnz-_",
        "outputId": "cc5a8d1e-542e-4ab2-a03c-507176b7295c"
      },
      "execution_count": 5,
      "outputs": [
        {
          "output_type": "execute_result",
          "data": {
            "text/plain": [
              "array(['FC', 'FF', 'SI', 'SL'], dtype=object)"
            ]
          },
          "metadata": {},
          "execution_count": 5
        }
      ]
    },
    {
      "cell_type": "code",
      "source": [
        "graterol.shape[0]"
      ],
      "metadata": {
        "colab": {
          "base_uri": "https://localhost:8080/"
        },
        "id": "GKemqHn2rE4K",
        "outputId": "4ee8553e-3380-4a11-fda5-b3c5bdf648da"
      },
      "execution_count": 6,
      "outputs": [
        {
          "output_type": "execute_result",
          "data": {
            "text/plain": [
              "483"
            ]
          },
          "metadata": {},
          "execution_count": 6
        }
      ]
    },
    {
      "cell_type": "code",
      "source": [
        "graterol[graterol['description'] == 'called_strike'].shape[0]\n",
        "# 263 rows"
      ],
      "metadata": {
        "colab": {
          "base_uri": "https://localhost:8080/"
        },
        "id": "ZYMG2kvsqs5m",
        "outputId": "61025d7b-0791-4244-9216-143982698d93"
      },
      "execution_count": null,
      "outputs": [
        {
          "output_type": "execute_result",
          "data": {
            "text/plain": [
              "74"
            ]
          },
          "metadata": {},
          "execution_count": 8
        }
      ]
    },
    {
      "cell_type": "code",
      "source": [
        "round((100*(74/483)), 1) #CStr Rate"
      ],
      "metadata": {
        "colab": {
          "base_uri": "https://localhost:8080/"
        },
        "id": "-JfxZQrPrYlv",
        "outputId": "afaa162c-e67d-4559-d7ed-4ae17a971915"
      },
      "execution_count": null,
      "outputs": [
        {
          "output_type": "execute_result",
          "data": {
            "text/plain": [
              "15.3"
            ]
          },
          "metadata": {},
          "execution_count": 9
        }
      ]
    },
    {
      "cell_type": "code",
      "source": [
        "swinging_strikes = ['swinging_strike_blocked','swinging_strike'] "
      ],
      "metadata": {
        "id": "CkRYlfRXrvV1"
      },
      "execution_count": 12,
      "outputs": []
    },
    {
      "cell_type": "code",
      "source": [
        "graterol_swstrs = graterol[(graterol['description'].isin(swinging_strikes))] \n",
        "graterol_swstrs.shape[0]"
      ],
      "metadata": {
        "colab": {
          "base_uri": "https://localhost:8080/"
        },
        "id": "JwyYeXpvr4Lf",
        "outputId": "6342aaa9-1e1c-453a-a068-0e1d8ade43c4"
      },
      "execution_count": null,
      "outputs": [
        {
          "output_type": "execute_result",
          "data": {
            "text/plain": [
              "50"
            ]
          },
          "metadata": {},
          "execution_count": 14
        }
      ]
    },
    {
      "cell_type": "code",
      "source": [
        "round((100*(50/483)), 1) #SwStr Rate"
      ],
      "metadata": {
        "colab": {
          "base_uri": "https://localhost:8080/"
        },
        "id": "zXPxBhapsM6i",
        "outputId": "dd3a75d9-794f-41d2-9a20-a28688c6e511"
      },
      "execution_count": null,
      "outputs": [
        {
          "output_type": "execute_result",
          "data": {
            "text/plain": [
              "10.4"
            ]
          },
          "metadata": {},
          "execution_count": 13
        }
      ]
    },
    {
      "cell_type": "markdown",
      "source": [
        "## On Fastballs"
      ],
      "metadata": {
        "id": "xDelnvOavOXe"
      }
    },
    {
      "cell_type": "code",
      "source": [
        "graterol_fastballs = graterol[(graterol['pitch_type'] == \"SI\")|\n",
        "                      (graterol[\"pitch_type\"] == \"FF\")|\n",
        "                      (graterol[\"pitch_type\"] == \"FC\")]\n",
        "fastballs = graterol_fastballs.shape[0]"
      ],
      "metadata": {
        "id": "LJjqA59Yn1Iy"
      },
      "execution_count": 17,
      "outputs": []
    },
    {
      "cell_type": "code",
      "source": [
        "called_strikes = graterol_fastballs[graterol_fastballs['description'] == 'called_strike'].shape[0]"
      ],
      "metadata": {
        "id": "pwY1P3MLofbJ"
      },
      "execution_count": 18,
      "outputs": []
    },
    {
      "cell_type": "code",
      "source": [
        "round(100*(called_strikes / fastballs), 1) #CStr Fastballs"
      ],
      "metadata": {
        "colab": {
          "base_uri": "https://localhost:8080/"
        },
        "id": "ULsgydfgtAWh",
        "outputId": "928b579c-34da-4566-da43-8c00ad0e15ce"
      },
      "execution_count": 19,
      "outputs": [
        {
          "output_type": "execute_result",
          "data": {
            "text/plain": [
              "17.7"
            ]
          },
          "metadata": {},
          "execution_count": 19
        }
      ]
    },
    {
      "cell_type": "code",
      "source": [
        "sw_strikes = graterol_fastballs[(graterol_fastballs['description'].isin(swinging_strikes))].shape[0]"
      ],
      "metadata": {
        "id": "WGzzC5aQtFhA"
      },
      "execution_count": 20,
      "outputs": []
    },
    {
      "cell_type": "code",
      "source": [
        "round(100*(sw_strikes / fastballs), 1)"
      ],
      "metadata": {
        "colab": {
          "base_uri": "https://localhost:8080/"
        },
        "id": "nMof6i4QtV06",
        "outputId": "f78cce2f-fb44-4790-ed11-443a58152b95"
      },
      "execution_count": 21,
      "outputs": [
        {
          "output_type": "execute_result",
          "data": {
            "text/plain": [
              "7.9"
            ]
          },
          "metadata": {},
          "execution_count": 21
        }
      ]
    },
    {
      "cell_type": "code",
      "source": [
        "round(100*((called_strikes + sw_strikes)/fastballs), 1) #Fastballs "
      ],
      "metadata": {
        "colab": {
          "base_uri": "https://localhost:8080/"
        },
        "id": "fSSpinypteBy",
        "outputId": "01b40e60-047d-47bd-f030-591a19cd4d71"
      },
      "execution_count": 22,
      "outputs": [
        {
          "output_type": "execute_result",
          "data": {
            "text/plain": [
              "25.6"
            ]
          },
          "metadata": {},
          "execution_count": 22
        }
      ]
    },
    {
      "cell_type": "code",
      "source": [
        ""
      ],
      "metadata": {
        "id": "2O-envHXyXBu"
      },
      "execution_count": null,
      "outputs": []
    }
  ]
}